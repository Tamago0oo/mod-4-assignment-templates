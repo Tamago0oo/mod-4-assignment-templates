{
 "cells": [
  {
   "cell_type": "markdown",
   "id": "fa38df4b",
   "metadata": {},
   "source": [
    "### Student Details\n",
    "ID Number: 211917\n",
    "Surname: De Leon\n",
    "Year and Course: 2 BS ITE\n"
   ]
  },
  {
   "cell_type": "code",
   "execution_count": 2,
   "id": "bc23dcfe",
   "metadata": {},
   "outputs": [
    {
     "name": "stdout",
     "output_type": "stream",
     "text": [
      "Enter first number: 1\n",
      "Enter second number: 2\n",
      "Enter third number: 3\n",
      "The average is 2.0\n"
     ]
    }
   ],
   "source": [
    "def three_number_average(a, b, c):\n",
    "    average=(int(a)+ int(b)+ int(c))/3\n",
    "    return average\n",
    "firstnumber= input('Enter first number: ')\n",
    "secondnumber= input('Enter second number: ')\n",
    "thirdnumber= input('Enter third number: ')\n",
    "print('The average is', three_number_average(firstnumber, secondnumber, thirdnumber))\n"
   ]
  },
  {
   "cell_type": "code",
   "execution_count": null,
   "id": "ab8b5693",
   "metadata": {},
   "outputs": [],
   "source": []
  }
 ],
 "metadata": {
  "kernelspec": {
   "display_name": "Python 3 (ipykernel)",
   "language": "python",
   "name": "python3"
  },
  "language_info": {
   "codemirror_mode": {
    "name": "ipython",
    "version": 3
   },
   "file_extension": ".py",
   "mimetype": "text/x-python",
   "name": "python",
   "nbconvert_exporter": "python",
   "pygments_lexer": "ipython3",
   "version": "3.9.12"
  }
 },
 "nbformat": 4,
 "nbformat_minor": 5
}
